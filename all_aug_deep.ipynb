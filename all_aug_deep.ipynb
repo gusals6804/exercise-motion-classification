{
 "cells": [
  {
   "cell_type": "code",
   "execution_count": 1,
   "metadata": {},
   "outputs": [],
   "source": [
    "import os\n",
    "path = 'D:/python_project/hyunmin_project/운동동작분류/'"
   ]
  },
  {
   "cell_type": "code",
   "execution_count": 2,
   "metadata": {},
   "outputs": [],
   "source": [
    "import glob\n",
    "import pandas as pd\n",
    "import numpy as np\n",
    "import os \n",
    "from sklearn.model_selection import StratifiedKFold\n",
    "import matplotlib.pylab as plt\n",
    "from tqdm import tqdm\n",
    "import re \n",
    "import tensorflow as tf\n",
    "import keras\n",
    "from tensorflow.keras.layers import *\n",
    "from tensorflow.keras.models import *\n",
    "from tensorflow.keras.callbacks import ModelCheckpoint, EarlyStopping, ReduceLROnPlateau, LearningRateScheduler\n",
    "from sklearn.utils import shuffle\n",
    "from tensorflow.keras.preprocessing.sequence import pad_sequences \n",
    "from tensorflow.keras.preprocessing.text import Tokenizer \n",
    "from tensorflow.keras import regularizers\n",
    "from tensorflow.keras.optimizers import Adam\n",
    "from sklearn.model_selection import train_test_split, KFold, StratifiedKFold\n",
    "from keras_self_attention import SeqSelfAttention\n",
    "import random \n",
    "import time\n",
    "from scipy import fftpack\n",
    "\n",
    "train=pd.read_csv(path + 'open/train_features.csv')\n",
    "train_label=pd.read_csv(path + 'open/train_labels.csv')\n",
    "test=pd.read_csv(path + 'open/test_features.csv')\n",
    "submission=pd.read_csv(path + 'open/sample_submission.csv')"
   ]
  },
  {
   "cell_type": "code",
   "execution_count": 31,
   "metadata": {},
   "outputs": [
    {
     "data": {
      "text/plain": [
       "(3125, 600, 6)"
      ]
     },
     "execution_count": 31,
     "metadata": {},
     "output_type": "execute_result"
    }
   ],
   "source": [
    "X = tf.reshape(np.array(train.iloc[:,2:]), [-1,600,6]) \n",
    "X =  np.array(X).reshape(-1,600,6)\n",
    "X.shape"
   ]
  },
  {
   "cell_type": "code",
   "execution_count": 44,
   "metadata": {},
   "outputs": [
    {
     "data": {
      "text/plain": [
       "(3125, 61)"
      ]
     },
     "execution_count": 44,
     "metadata": {},
     "output_type": "execute_result"
    }
   ],
   "source": [
    "y = train_label['label'].values \n",
    "\n",
    "y =  tf.keras.utils.to_categorical(y)\n",
    "y.shape"
   ]
  },
  {
   "cell_type": "code",
   "execution_count": 45,
   "metadata": {},
   "outputs": [],
   "source": [
    "from attention import Attention\n",
    "def build_model():  \n",
    "    model= Sequential()\n",
    "    model.add(Conv1D(64, input_shape=(600,6), kernel_size=3, padding='same',activation='relu'))\n",
    "    model.add(Conv1D(64, kernel_size=3,padding='same',activation='relu'))\n",
    "    model.add(BatchNormalization())\n",
    "    model.add(MaxPooling1D(pool_size=3))\n",
    "    model.add(Dropout(0.4))\n",
    "    model.add(Conv1D(128,kernel_size=3,padding='same',activation='relu'))\n",
    "    model.add(Conv1D(128,kernel_size=3,padding='same',activation='relu'))\n",
    "    model.add(BatchNormalization())\n",
    "    model.add(MaxPooling1D(pool_size=3))\n",
    "    model.add(Dropout(0.4))\n",
    "    model.add(Conv1D(256,kernel_size=3,padding='same',activation='relu'))\n",
    "    model.add(Conv1D(256,kernel_size=3,padding='same',activation='relu'))\n",
    "    model.add(BatchNormalization())\n",
    "    model.add(MaxPooling1D(pool_size=3))\n",
    "    model.add(Dropout(0.4))\n",
    "    model.add(Conv1D(512,kernel_size=3,padding='same',activation='relu'))\n",
    "    model.add(Conv1D(512,kernel_size=3,padding='same',activation='relu'))\n",
    "    model.add(BatchNormalization())\n",
    "    model.add(MaxPooling1D(pool_size=3))\n",
    "    model.add(Dropout(0.4))\n",
    "    #model.add(GlobalAveragePooling1D())\n",
    "    #model.add(TimeDistributed(Flatten(), name='Flatten'))\n",
    "    #model.add(Bidirectional(GRU(units=32, name='Bi-GRU')))\n",
    "    #model.add(GRU(64,return_sequences=True))\n",
    "    #model.add(Dropout(0.4))\n",
    "    #model.add(keras.layers.Bidirectional(keras.layers.LSTM(units=128,\n",
    "    #                                                   return_sequences=True)))\n",
    "    #model.add(Flatten())\n",
    "    #model.add(Attention())\n",
    "    model.add(Dense(128,activation='relu'))\n",
    "    model.add(Dropout(0.4))\n",
    "    model.add(Dense(64,activation='relu'))\n",
    "    model.add(Dropout(0.4))\n",
    "    model.add(Dense(61, activation = 'softmax'))\n",
    "    model.compile(optimizer = 'adam', loss = 'categorical_crossentropy', metrics = ['accuracy']) \n",
    "    return model"
   ]
  },
  {
   "cell_type": "code",
   "execution_count": 46,
   "metadata": {},
   "outputs": [],
   "source": [
    "def build_model2():  \n",
    "    inputs = Input(shape = (600,6)) \n",
    "    bn = BatchNormalization()(inputs)\n",
    "    bi_gru = Bidirectional(GRU(128, return_sequences = True))(bn) \n",
    "    dropout = Dropout(0.25)(bi_gru) \n",
    "    bi_gru = Bidirectional(GRU(128, return_sequences = False))(dropout) \n",
    "    dense = Dense(128, activation = 'relu')(bi_gru) \n",
    "    bn = BatchNormalization()(dense) \n",
    "    outputs = Dense(61, activation = 'softmax')(bn)   \n",
    "    model = Model(inputs = inputs, outputs = outputs) \n",
    "    model.compile(optimizer = 'adam', loss = 'sparse_categorical_crossentropy', metrics = ['accuracy']) \n",
    "    return model"
   ]
  },
  {
   "cell_type": "code",
   "execution_count": 56,
   "metadata": {},
   "outputs": [
    {
     "name": "stderr",
     "output_type": "stream",
     "text": [
      "C:\\Users\\gusals\\anaconda3\\envs\\deep\\lib\\site-packages\\sklearn\\utils\\validation.py:70: FutureWarning: Pass shuffle=True, random_state=42 as keyword args. From version 0.25 passing these as positional arguments will result in an error\n",
      "  FutureWarning)\n"
     ]
    },
    {
     "name": "stdout",
     "output_type": "stream",
     "text": [
      "... Validating on fold 1 ...\n",
      "... augmenting data ...\n"
     ]
    },
    {
     "name": "stderr",
     "output_type": "stream",
     "text": [
      "100%|█████████████████████████████████████████████████████████████████████████| 2500/2500 [00:00<00:00, 2935.23it/s]\n"
     ]
    },
    {
     "name": "stdout",
     "output_type": "stream",
     "text": [
      "(1525000, 2) (2500, 61)\n"
     ]
    },
    {
     "ename": "ValueError",
     "evalue": "all the input array dimensions for the concatenation axis must match exactly, but along dimension 1, the array at index 0 has size 61 and the array at index 1 has size 2",
     "output_type": "error",
     "traceback": [
      "\u001b[1;31m---------------------------------------------------------------------------\u001b[0m",
      "\u001b[1;31mValueError\u001b[0m                                Traceback (most recent call last)",
      "\u001b[1;32m<ipython-input-56-b749889c9758>\u001b[0m in \u001b[0;36m<module>\u001b[1;34m\u001b[0m\n\u001b[0;32m     21\u001b[0m     \u001b[0mprint\u001b[0m\u001b[1;33m(\u001b[0m\u001b[0my_augmented\u001b[0m\u001b[1;33m.\u001b[0m\u001b[0mshape\u001b[0m\u001b[1;33m,\u001b[0m \u001b[0my_train\u001b[0m\u001b[1;33m.\u001b[0m\u001b[0mshape\u001b[0m\u001b[1;33m)\u001b[0m\u001b[1;33m\u001b[0m\u001b[1;33m\u001b[0m\u001b[0m\n\u001b[0;32m     22\u001b[0m     \u001b[0mX_train\u001b[0m \u001b[1;33m=\u001b[0m \u001b[0mnp\u001b[0m\u001b[1;33m.\u001b[0m\u001b[0mconcatenate\u001b[0m\u001b[1;33m(\u001b[0m\u001b[1;33m(\u001b[0m\u001b[0mX_train\u001b[0m\u001b[1;33m,\u001b[0m \u001b[0mX_augmented\u001b[0m\u001b[1;33m)\u001b[0m\u001b[1;33m,\u001b[0m \u001b[0maxis\u001b[0m\u001b[1;33m=\u001b[0m\u001b[1;36m0\u001b[0m\u001b[1;33m)\u001b[0m\u001b[1;33m\u001b[0m\u001b[1;33m\u001b[0m\u001b[0m\n\u001b[1;32m---> 23\u001b[1;33m     \u001b[0my_train\u001b[0m \u001b[1;33m=\u001b[0m \u001b[0mnp\u001b[0m\u001b[1;33m.\u001b[0m\u001b[0mconcatenate\u001b[0m\u001b[1;33m(\u001b[0m\u001b[1;33m(\u001b[0m\u001b[0my_train\u001b[0m\u001b[1;33m,\u001b[0m \u001b[0my_augmented\u001b[0m\u001b[1;33m)\u001b[0m\u001b[1;33m,\u001b[0m \u001b[0maxis\u001b[0m\u001b[1;33m=\u001b[0m\u001b[1;36m0\u001b[0m\u001b[1;33m)\u001b[0m\u001b[1;33m\u001b[0m\u001b[1;33m\u001b[0m\u001b[0m\n\u001b[0m\u001b[0;32m     24\u001b[0m \u001b[1;33m\u001b[0m\u001b[0m\n\u001b[0;32m     25\u001b[0m     \u001b[0mprint\u001b[0m\u001b[1;33m(\u001b[0m\u001b[0mX_train\u001b[0m\u001b[1;33m.\u001b[0m\u001b[0mshape\u001b[0m\u001b[1;33m,\u001b[0m \u001b[0my_train\u001b[0m\u001b[1;33m.\u001b[0m\u001b[0mshape\u001b[0m\u001b[1;33m,\u001b[0m \u001b[0my_val\u001b[0m\u001b[1;33m.\u001b[0m\u001b[0mshape\u001b[0m\u001b[1;33m)\u001b[0m\u001b[1;33m\u001b[0m\u001b[1;33m\u001b[0m\u001b[0m\n",
      "\u001b[1;32m<__array_function__ internals>\u001b[0m in \u001b[0;36mconcatenate\u001b[1;34m(*args, **kwargs)\u001b[0m\n",
      "\u001b[1;31mValueError\u001b[0m: all the input array dimensions for the concatenation axis must match exactly, but along dimension 1, the array at index 0 has size 61 and the array at index 1 has size 2"
     ]
    }
   ],
   "source": [
    "from iterstrat.ml_stratifiers import MultilabelStratifiedKFold\n",
    "mskf = MultilabelStratifiedKFold(n_splits=5, shuffle=True, random_state=42)\n",
    "kfold = StratifiedKFold(n_splits = 5, random_state = 960418, shuffle = True)\n",
    "for idx,(train_idx, val_idx) in enumerate(mskf.split(X,y)):\n",
    "    print(\"... Validating on fold {} ...\".format(idx+1)) \n",
    "    X_train, X_val = X[train_idx], X[val_idx]\n",
    "    y_train, y_val = y[train_idx], y[val_idx] \n",
    "    \n",
    "    ##### augment data #####\n",
    "    print(\"... augmenting data ...\")\n",
    "    X_augmented = [] \n",
    "    y_augmented = [] \n",
    "    for i in tqdm(range(X_train.shape[0])): \n",
    "        for j in range(10): \n",
    "            shifted = np.roll(X_train[i], int(random.random() * 600)) \n",
    "            X_augmented.append(shifted) \n",
    "            y_augmented.append(y_train[i]) \n",
    "    X_augmented = np.array(X_augmented).reshape(-1,600,6) \n",
    "    y_augmented = np.array(y_augmented).reshape(-1,1)[:,0]\n",
    "    y_augmented = tf.keras.utils.to_categorical(y_augmented)\n",
    "    print(y_augmented.shape, y_train.shape)\n",
    "    X_train = np.concatenate((X_train, X_augmented), axis=0) \n",
    "    y_train = np.concatenate((y_train, y_augmented), axis=0) \n",
    "    \n",
    "    print(X_train.shape, y_train.shape, y_val.shape)\n",
    "    \n",
    "    ##### train model #####  \n",
    "    print(\"... training ...\") \n",
    "    model = build_model() \n",
    "    model_path = 'motion_detect/kfold' + str(idx+1) + '/epoch_{epoch:03d}_val_{val_loss:.3f}.h5'\n",
    "    learning_rate_reduction = ReduceLROnPlateau(monitor = 'val_loss', patience = 2, verbose = 1, factor = 0.8)\n",
    "    checkpoint = ModelCheckpoint(filepath = model_path, monitor = 'val_loss', verbose = 1, save_best_only = True)\n",
    "    early_stopping = EarlyStopping(monitor = 'val_loss', patience = 8) \n",
    "\n",
    "    model.fit(X_train,\n",
    "              y_train,\n",
    "              epochs=200,\n",
    "              batch_size = 128,\n",
    "              validation_data = (X_val, y_val),\n",
    "              callbacks = [checkpoint, early_stopping])"
   ]
  },
  {
   "cell_type": "code",
   "execution_count": null,
   "metadata": {},
   "outputs": [],
   "source": []
  }
 ],
 "metadata": {
  "kernelspec": {
   "display_name": "Python 3",
   "language": "python",
   "name": "python3"
  },
  "language_info": {
   "codemirror_mode": {
    "name": "ipython",
    "version": 3
   },
   "file_extension": ".py",
   "mimetype": "text/x-python",
   "name": "python",
   "nbconvert_exporter": "python",
   "pygments_lexer": "ipython3",
   "version": "3.6.12"
  }
 },
 "nbformat": 4,
 "nbformat_minor": 4
}
